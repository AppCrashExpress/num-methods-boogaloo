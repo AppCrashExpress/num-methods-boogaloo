{
 "cells": [
  {
   "cell_type": "markdown",
   "id": "4e3e48f5-f5d8-4c6a-98e3-4094154e9675",
   "metadata": {},
   "source": [
    "# Лабораторная работа 2: Гипербола"
   ]
  },
  {
   "cell_type": "markdown",
   "id": "392e59f7-3865-41a0-8975-050d58caf8db",
   "metadata": {},
   "source": [
    "## Вариант 10"
   ]
  },
  {
   "cell_type": "code",
   "execution_count": 1,
   "id": "ecf819fe-ec7b-46c5-8941-9a67123874fc",
   "metadata": {},
   "outputs": [],
   "source": [
    "import numpy as np\n",
    "import matplotlib.pyplot as plt\n",
    "\n",
    "import ipywidgets as widgets\n",
    "import warnings\n",
    "\n",
    "np.set_printoptions(precision=4)\n",
    "\n",
    "#sd for second derivative\n",
    "#fd for first  derivative\n",
    "sd = 1\n",
    "fd = 3\n",
    "\n",
    "a = 1\n",
    "b = 1\n",
    "c = -1\n",
    "f = lambda x, t : -1 * np.cos(x) * np.exp(-t)\n",
    "\n",
    "l = np.pi\n",
    "\n",
    "alpha, beta  = 1, 0\n",
    "gamma, delta = 1, 0\n",
    "\n",
    "get_left_bound = lambda t : np.exp(-t)\n",
    "get_right_bound = lambda t : -1 * np.exp(-t)\n",
    "\n",
    "init_first_layer  = lambda x : np.sin(x)\n",
    "init_second_layer =  lambda x : -1 * np.sin(x)\n",
    "\n",
    "analit_function = lambda x, t : np.exp(-t) * np.sin(x)"
   ]
  },
  {
   "cell_type": "code",
   "execution_count": 2,
   "id": "8659ddb7-6b80-4e35-bf09-cbd691bf317f",
   "metadata": {},
   "outputs": [],
   "source": [
    "def initialize_grid(grid, init_fl, init_sl, x_vals, time_step):\n",
    "    grid = grid.copy()\n",
    "    grid[0, :] = init_first_layer(x_vals)\n",
    "    grid[1, :] = grid[0, :] + init_second_layer(x_vals) * time_step\n",
    "    return grid"
   ]
  },
  {
   "cell_type": "code",
   "execution_count": 3,
   "id": "9540de4f-7df2-45c5-acf0-9b7517a75b3b",
   "metadata": {},
   "outputs": [],
   "source": [
    "%matplotlib widget\n",
    "\n",
    "def generate_interaction(function, time_stop, *, w=None):\n",
    "    x_num_slider = widgets.IntSlider(min=3, max=500, step=1, value=10)\n",
    "    t_num_slider = widgets.IntSlider(min=3, max=500, step=1, value=200)\n",
    "    curr_t_slider = widgets.IntSlider(min=3, max=t_num_slider.value, step=1, value=t_num_slider.value)\n",
    "\n",
    "    figure = plt.figure()\n",
    "    axis = figure.add_subplot(1, 1, 1)\n",
    "\n",
    "    # dummy lines\n",
    "    analyt_line = axis.plot(-2, -2, 4, 4)\n",
    "    grid_line   = axis.plot(-2, -2, 4, 4)\n",
    "\n",
    "    @widgets.interact(x_num=x_num_slider, t_num=t_num_slider, curr_t=curr_t_slider)\n",
    "    def f(x_num, t_num, curr_t):\n",
    "        curr_t_slider.max = t_num\n",
    "        if curr_t > t_num:\n",
    "            curr_t = t_num\n",
    "\n",
    "        time_step = time_stop / (t_num - 1)\n",
    "        grid = function(space_stop=l, space_num=x_num, \n",
    "                        time_stop=time_stop, time_num=t_num, approx_type='2o3p')\n",
    "\n",
    "        points = np.linspace(0.0, l, x_num)\n",
    "        analyt_solution = analit_function(points, (curr_t-1) * time_step)\n",
    "        grid_solution   = grid[curr_t-1]\n",
    "        \n",
    "        error = np.mean( np.square(analyt_solution - grid_solution) )\n",
    "        print(f\"MSError: {error:.10f}\")\n",
    "        \n",
    "        analyt_line[0].set_data(points, analyt_solution)\n",
    "        grid_line[0].set_data(points, grid_solution)"
   ]
  },
  {
   "cell_type": "markdown",
   "id": "8efb6e87-283b-4dd4-a3d7-892a585d3bb2",
   "metadata": {},
   "source": [
    "## Явный метод"
   ]
  },
  {
   "cell_type": "markdown",
   "id": "00c76dd3-43d8-4e61-999d-63cfdce95e39",
   "metadata": {},
   "source": [
    "### Алгоритм"
   ]
  },
  {
   "cell_type": "code",
   "execution_count": 4,
   "id": "f90ed02e-f83e-4995-8566-5f47b7be3865",
   "metadata": {},
   "outputs": [],
   "source": [
    "def solve_explicit(*, space_start=0.0, space_stop=1.0, space_num=200,\n",
    "                      time_start=0.0,  time_stop=1.0,  time_num=200,\n",
    "                      approx_type='1o2p'):\n",
    "    space_step = (space_stop - space_start) / (space_num - 1)\n",
    "    time_step = (time_stop - time_start) / (time_num - 1)\n",
    "\n",
    "    sigma = a*a * time_step*time_step / (space_step*space_step)\n",
    "    print('Sigma: ', sigma)\n",
    "    if sigma >= 1.0:\n",
    "        warnings.warn(\"Sigma reached 1.0, solution is unstable\")\n",
    "    \n",
    "    grid = np.zeros((time_num, space_num))\n",
    "    grid = initialize_grid(grid, init_first_layer, init_second_layer,\n",
    "                           np.linspace(space_start, space_stop, space_num),\n",
    "                           time_step)\n",
    "    \n",
    "    for t in range(1, time_num - 1):\n",
    "        for x in range(1, space_num - 1):\n",
    "            coef = a*a / (space_step*space_step)\n",
    "            diffusion = coef * ( grid[t, x+1] - 2*grid[t, x] + grid[t, x-1] )\n",
    "            \n",
    "            coef = b / (2*space_step)\n",
    "            movement = coef * ( grid[t, x+1] - grid[t, x-1] )\n",
    "            \n",
    "            coef = c\n",
    "            inflow = coef * grid[t, x]\n",
    "            \n",
    "            grid[t+1, x] = diffusion + movement + inflow + f(x*space_step, t*time_step) + \\\n",
    "                           sd * (2 * grid[t, x] - grid[t-1, x]) / (time_step*time_step) + fd * grid[t, x] / time_step\n",
    "            grid[t+1, x] = grid[t+1, x] / ( sd / (time_step*time_step) + fd / time_step )\n",
    "\n",
    "        if approx_type == '1o2p':\n",
    "            grid[t+1, 0]  = ( -1 * (alpha / space_step) * grid[t+1, 1] + get_left_bound((t+1) * time_step) ) / (beta - alpha / space_step)\n",
    "            grid[t+1, -1] = ( (gamma / space_step) * grid[t+1, -2] + get_right_bound((t+1) * time_step) ) / (delta + gamma / space_step)\n",
    "            \n",
    "        elif approx_type == '2o3p':\n",
    "            grid[t+1, 0]  = ( get_left_bound((t+1) * time_step) - alpha * (4*grid[t+1, 1] - grid[t+1, 2]) / (2*space_step) ) / ( (-3*alpha)/(2*space_step) + beta )\n",
    "            grid[t+1, -1] = ( get_right_bound((t+1) * time_step) - gamma * (grid[t+1, -3] - 4*grid[t+1, -2]) / (2*space_step) ) / ( (3*gamma)/(2*space_step) + delta )\n",
    "            \n",
    "        elif approx_type == '2o2p':\n",
    "            grid[t+1, 0]  = (space_step/time_step * grid[t, 0] - get_left_bound((t+1) * time_step) * (2*a*a - b*space_step)/alpha + 2*a*a/space_step * grid[t+1, 1]) / ( 2*a*a/space_step + space_step/time_step - c * space_step + beta/alpha * (2*a*a - b*space_step) )\n",
    "            grid[t+1, -1] = (space_step/time_step * grid[t, -1] - get_right_bound((t+1) * time_step) * (2*a*a + b*space_step)/gamma + 2*a*a/space_step * grid[t+1, -2]) / (2*a*a/space_step + space_step/time_step - c * space_step + delta/gamma * (2*a*a + b*space_step))\n",
    "            \n",
    "    return grid"
   ]
  },
  {
   "cell_type": "markdown",
   "id": "8a41947e-c7ba-4437-b2d7-df8887309ade",
   "metadata": {},
   "source": [
    "### Пример решения"
   ]
  },
  {
   "cell_type": "code",
   "execution_count": 5,
   "id": "e38088c7-45cf-49e9-b177-1a61280310a8",
   "metadata": {},
   "outputs": [
    {
     "data": {
      "application/vnd.jupyter.widget-view+json": {
       "model_id": "2fe40198ecd44b6d9033313c77c85c87",
       "version_major": 2,
       "version_minor": 0
      },
      "text/plain": [
       "interactive(children=(IntSlider(value=10, description='x_num', max=500, min=3), IntSlider(value=200, descripti…"
      ]
     },
     "metadata": {},
     "output_type": "display_data"
    },
    {
     "data": {
      "application/vnd.jupyter.widget-view+json": {
       "model_id": "aea88601e1c14fe199a607af9bf97415",
       "version_major": 2,
       "version_minor": 0
      },
      "image/png": "[encoded data removed]",
      "text/plain": [
       "Canvas(toolbar=Toolbar(toolitems=[('Home', 'Reset original view', 'home', 'home'), ('Back', 'Back to previous …"
      ]
     },
     "metadata": {},
     "output_type": "display_data"
    }
   ],
   "source": [
    "time_stop = 1.0\n",
    "\n",
    "generate_interaction(solve_explicit, time_stop)"
   ]
  },
  {
   "cell_type": "markdown",
   "id": "06201356-8a74-4ef2-8440-9b9487635c17",
   "metadata": {},
   "source": [
    "## Неявный метод"
   ]
  },
  {
   "cell_type": "markdown",
   "id": "b39851d6-9751-42bb-8979-b38b880a24f0",
   "metadata": {},
   "source": [
    "### Метод прогонки"
   ]
  },
  {
   "cell_type": "code",
   "execution_count": 6,
   "id": "ea84745d-4f20-47b3-8611-49766033ad8c",
   "metadata": {},
   "outputs": [],
   "source": [
    "def solve_tridiagonal(lower, mid, upper, constraints):\n",
    "    a, b, c, d = map(np.array, (lower, mid, upper, constraints, ))\n",
    "    x = np.zeros_like(d)\n",
    "    n = len(d)\n",
    "    \n",
    "    for i in range(1, n):\n",
    "        w = a[i] / b[i - 1]\n",
    "        b[i] -= w * c[i - 1]\n",
    "        d[i] -= w * d[i - 1]\n",
    "    \n",
    "    x[-1] = d[-1] / b[-1]\n",
    "    for i in range(n-2, -1, -1):\n",
    "        x[i] = (d[i] - c[i] * x[i+1]) / b[i]\n",
    "        \n",
    "    return x"
   ]
  },
  {
   "cell_type": "markdown",
   "id": "559ce7ce-37f7-4b70-a4fa-4374c8cdd9f1",
   "metadata": {},
   "source": [
    "### Алгоритм"
   ]
  },
  {
   "cell_type": "code",
   "execution_count": 7,
   "id": "875914c9-cf83-43a8-a025-2f73aacaeaea",
   "metadata": {},
   "outputs": [],
   "source": [
    "def solve_implicit(*, space_start=0.0, space_stop=1.0, space_num=200,\n",
    "                      time_start=0.0,  time_stop=1.0,  time_num=200,\n",
    "                      w = 0.5, approx_type='1o2p'):\n",
    "    space_step = (space_stop - space_start) / (space_num - 1)\n",
    "    time_step = (time_stop - time_start) / (time_num - 1)\n",
    "    \n",
    "    grid = np.zeros((time_num, space_num))\n",
    "    grid = initialize_grid(grid, init_first_layer, init_second_layer,\n",
    "                           np.linspace(space_start, space_stop, space_num),\n",
    "                           time_step)\n",
    "    \n",
    "    for t in range(1, time_num - 1):\n",
    "        lower  = np.zeros((space_num, ))\n",
    "        mid    = np.zeros((space_num, ))\n",
    "        upper  = np.zeros((space_num, ))\n",
    "        constr = np.zeros((space_num, ))\n",
    "        \n",
    "        lower[1:-1] = w * (a / (space_step*space_step) - b / (2 * space_step))\n",
    "        mid[1:-1]   = w * (c - 2 * a / (space_step*space_step)) - sd / (time_step*time_step) - fd / time_step\n",
    "        upper[1:-1] = w * (a / (space_step*space_step) + b / (2 * space_step))\n",
    "        \n",
    "        for x in range(1, space_num - 1):\n",
    "            diff_coef = a / (space_step*space_step)\n",
    "            move_coef = b / (2 * space_step)\n",
    "            infl_coef = c\n",
    "            constr[x] = (w - 1) * ( diff_coef * (grid[t, x+1] - 2 * grid[t, x] + grid[t, x-1]) + move_coef * (grid[t, x+1] - grid[t, x-1]) + infl_coef * grid[t, x]) + \\\n",
    "                        sd * (grid[t-1, x] - 2 * grid[t, x]) / (time_step*time_step) - fd * grid[t, x] / time_step - f(x*space_step, t*time_step)\n",
    "\n",
    "        if approx_type == '1o2p':\n",
    "            mid[0]    = beta - alpha / space_step\n",
    "            upper[0]  = alpha / space_step\n",
    "            constr[0] = get_left_bound((t+1) * time_step)\n",
    "\n",
    "            lower[-1]  = -1 * gamma / space_step\n",
    "            mid[-1]    = delta + gamma / space_step\n",
    "            constr[-1] = get_right_bound((t+1) * time_step)\n",
    "            \n",
    "        elif approx_type == '2o3p':\n",
    "            first_norm = (-alpha/(2*space_step)) / upper[1]\n",
    "            mid[0]    = ( (-3*alpha)/(2*space_step) + beta ) - first_norm * lower[1]\n",
    "            upper[0]  =  (2*alpha)/space_step - first_norm * mid[1]\n",
    "            constr[0] = get_left_bound((t+1) * time_step) - first_norm * constr[1]\n",
    "            \n",
    "            last_norm = gamma/(2*space_step) / lower[-2]\n",
    "            lower[-1]  = (-2*gamma/space_step) - last_norm * mid[-2]\n",
    "            mid[-1]    = ( (3*gamma)/(2*space_step) + delta ) - last_norm * upper[-2]\n",
    "            constr[-1] = get_right_bound((t+1) * time_step) - last_norm * constr[-2]\n",
    "            \n",
    "\n",
    "        elif approx_type == '2o2p':\n",
    "            mid[0]    = 2*a*a/space_step + space_step/time_step - c * space_step - beta/alpha * (2*a*a - b*space_step)\n",
    "            upper[0]  = -2*a*a/space_step\n",
    "            constr[0] = space_step/time_step * grid[t, 0] - get_left_bound((t+1) * time_step) * (2*a*a - b*space_step)/alpha\n",
    "            \n",
    "            lower[-1]  = -2*a*a/space_step\n",
    "            mid[-1]    = 2*a*a/space_step + space_step/time_step - c * space_step + delta/gamma * (2*a*a + b*space_step)\n",
    "            constr[-1] = space_step/time_step * grid[t, -1] + get_right_bound((t+1) * time_step) * (2*a*a + b*space_step)/gamma\n",
    "            \n",
    "        grid[t+1] = solve_tridiagonal(lower, mid, upper, constr)\n",
    "        \n",
    "    return grid"
   ]
  },
  {
   "cell_type": "markdown",
   "id": "eb36ba3a-a240-4cde-a12f-91152e7635ba",
   "metadata": {},
   "source": [
    "### Пример решения"
   ]
  },
  {
   "cell_type": "code",
   "execution_count": 8,
   "id": "336e5f50-4107-46f0-a6c5-2d003a59efe7",
   "metadata": {},
   "outputs": [
    {
     "data": {
      "application/vnd.jupyter.widget-view+json": {
       "model_id": "7ea28a6b95844542a844eea53220a55d",
       "version_major": 2,
       "version_minor": 0
      },
      "text/plain": [
       "interactive(children=(IntSlider(value=10, description='x_num', max=500, min=3), IntSlider(value=200, descripti…"
      ]
     },
     "metadata": {},
     "output_type": "display_data"
    },
    {
     "data": {
      "application/vnd.jupyter.widget-view+json": {
       "model_id": "ca4e7b568f3b49ff917e4636f1d73e09",
       "version_major": 2,
       "version_minor": 0
      },
      "image/png": "[encoded data removed]",
      "text/plain": [
       "Canvas(toolbar=Toolbar(toolitems=[('Home', 'Reset original view', 'home', 'home'), ('Back', 'Back to previous …"
      ]
     },
     "metadata": {},
     "output_type": "display_data"
    }
   ],
   "source": [
    "time_stop = 1.0\n",
    "\n",
    "generate_interaction(solve_implicit, time_stop, w=1.0)"
   ]
  },
  {
   "cell_type": "markdown",
   "id": "59580906-ed77-4d93-b8bd-d3359a39514b",
   "metadata": {},
   "source": [
    "## Метод Кранка - Николсона"
   ]
  },
  {
   "cell_type": "markdown",
   "id": "c89da207-add2-4136-8213-b10d24cbb207",
   "metadata": {},
   "source": [
    "### Пример решения"
   ]
  },
  {
   "cell_type": "code",
   "execution_count": 9,
   "id": "cf217cb6-32f0-4e31-9591-a243b9b83a84",
   "metadata": {},
   "outputs": [
    {
     "data": {
      "application/vnd.jupyter.widget-view+json": {
       "model_id": "813f4031c318428ab7aac42be631db3c",
       "version_major": 2,
       "version_minor": 0
      },
      "text/plain": [
       "interactive(children=(IntSlider(value=10, description='x_num', max=500, min=3), IntSlider(value=200, descripti…"
      ]
     },
     "metadata": {},
     "output_type": "display_data"
    },
    {
     "data": {
      "application/vnd.jupyter.widget-view+json": {
       "model_id": "78922acc3f26449ca73e5254e8dbbb9d",
       "version_major": 2,
       "version_minor": 0
      },
      "image/png": "[encoded data removed]",
      "text/plain": [
       "Canvas(toolbar=Toolbar(toolitems=[('Home', 'Reset original view', 'home', 'home'), ('Back', 'Back to previous …"
      ]
     },
     "metadata": {},
     "output_type": "display_data"
    }
   ],
   "source": [
    "time_stop = 1.0\n",
    "\n",
    "generate_interaction(solve_implicit, time_stop, w=0.5)"
   ]
  }
 ],
 "metadata": {
  "kernelspec": {
   "display_name": "Python 3",
   "language": "python",
   "name": "python3"
  },
  "language_info": {
   "codemirror_mode": {
    "name": "ipython",
    "version": 3
   },
   "file_extension": ".py",
   "mimetype": "text/x-python",
   "name": "python",
   "nbconvert_exporter": "python",
   "pygments_lexer": "ipython3",
   "version": "3.9.7"
  }
 },
 "nbformat": 4,
 "nbformat_minor": 5
}
