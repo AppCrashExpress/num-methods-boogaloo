{
 "cells": [
  {
   "cell_type": "markdown",
   "id": "45e702f9-bf4a-4243-aeb9-bb2ced4bf13e",
   "metadata": {},
   "source": [
    "### Task \n",
    "\n",
    "a = \n",
    "b = \n",
    "\n",
    "l = \n",
    "\n",
    "alpha, beta  = , \n",
    "gamma, delta = , \n",
    "\n",
    "get_left_bound = lambda t : \n",
    "get_right_bound = lambda t : \n",
    "get_initial_values = lambda x : \n",
    "\n",
    "analit_function = lambda x, t : "
   ]
  },
  {
   "cell_type": "code",
   "execution_count": 1,
   "id": "ecf819fe-ec7b-46c5-8941-9a67123874fc",
   "metadata": {},
   "outputs": [],
   "source": [
    "import numpy as np\n",
    "import matplotlib.pyplot as plt\n",
    "\n",
    "np.set_printoptions(precision=4)\n",
    "\n",
    "### Task 1\n",
    "\n",
    "a = 1/120\n",
    "b = 0\n",
    "\n",
    "l = 1\n",
    "\n",
    "alpha, beta  = 0, 1\n",
    "gamma, delta = 0, 1\n",
    "\n",
    "get_left_bound = lambda t : 0\n",
    "get_right_bound = lambda t : 0\n",
    "get_initial_values = lambda x : np.sin(2*np.pi * x)\n",
    "\n",
    "analit_function = lambda x, t : np.exp(-4 * np.pi*np.pi * a*t) * np.sin(2*np.pi * x)\n",
    "\n",
    "### Task 2\n",
    "\n",
    "a = 1/120\n",
    "b = 0\n",
    "\n",
    "l = 1\n",
    "\n",
    "alpha, beta  = 0, 1\n",
    "gamma, delta = 0, 1\n",
    "\n",
    "get_left_bound = lambda t : 0\n",
    "get_right_bound = lambda t : 1\n",
    "get_initial_values = lambda x : x + np.sin(np.pi * x)\n",
    "\n",
    "analit_function = lambda x, t : x + np.exp(-1 * np.pi*np.pi * a*t) * np.sin(np.pi * x)\n",
    "\n",
    "### Task 3\n",
    "\n",
    "a = 1/120\n",
    "b = 0\n",
    "\n",
    "l = np.pi\n",
    "\n",
    "alpha, beta  = 0, 1\n",
    "gamma, delta = 0, 1\n",
    "\n",
    "get_left_bound = lambda t : np.exp(-1 * a*t)\n",
    "get_right_bound = lambda t : -1 * np.exp(-1 * a*t)\n",
    "get_initial_values = lambda x : np.cos(x)\n",
    "\n",
    "analit_function = lambda x, t : np.exp(-1 * a*t) * np.cos(x)\n",
    "\n",
    "### Task 4\n",
    "\n",
    "a = 1/120\n",
    "b = 0\n",
    "\n",
    "l = np.pi\n",
    "\n",
    "alpha, beta  = 1, 0\n",
    "gamma, delta = 1, 0\n",
    "\n",
    "get_left_bound = lambda t : np.exp(-1 * a*t)\n",
    "get_right_bound = lambda t : -1 * np.exp(-1 * a*t)\n",
    "get_initial_values = lambda x : np.sin(x)\n",
    "\n",
    "analit_function = lambda x, t : np.exp(-1 * a*t) * np.sin(x)\n",
    "\n",
    "### Task 9\n",
    "\n",
    "a = 1/120\n",
    "b = 1/120\n",
    "\n",
    "l = np.pi\n",
    "\n",
    "alpha, beta  = 1, -1\n",
    "gamma, delta = 1, -1\n",
    "\n",
    "get_left_bound = lambda t : -1 * np.exp(-a*t) * (np.cos(b*t) + np.sin(b*t))\n",
    "get_right_bound = lambda t : np.exp(-a*t) * (np.cos(b*t) + np.sin(b*t))\n",
    "get_initial_values = lambda x : np.cos(x)\n",
    "\n",
    "analit_function = lambda x, t : np.exp(-a*t) * np.cos(x + b*t)\n"
   ]
  },
  {
   "cell_type": "code",
   "execution_count": 2,
   "id": "f90ed02e-f83e-4995-8566-5f47b7be3865",
   "metadata": {},
   "outputs": [],
   "source": [
    "def solve_explicit(*, space_start=0.0, space_stop=1.0, space_num=200,\n",
    "                      time_start=0.0,  time_stop=1.0,  time_num=200,\n",
    "                      approx_type='1o2p'):\n",
    "    space_step = (space_stop - space_start) / (space_num - 1)\n",
    "    time_step = (time_stop - time_start) / (time_num - 1)\n",
    "    \n",
    "    print('Sigma: ', a * time_step / (space_step/space_step))\n",
    "    \n",
    "    grid = np.zeros((time_num, space_num))\n",
    "    grid[0, :] = get_initial_values( np.linspace(space_start, space_stop, space_num) )\n",
    "    \n",
    "    for t in range(time_num - 1):\n",
    "        for x in range(1, space_num - 1):\n",
    "            coef = a * time_step / (space_step*space_step)\n",
    "            diffusion = coef * ( grid[t, x+1] - 2*grid[t, x] + grid[t, x-1] )\n",
    "            \n",
    "            coef = b * time_step / (2*space_step)\n",
    "            movement = coef * ( grid[t, x+1] - grid[t, x-1] )\n",
    "            \n",
    "            grid[t+1, x] = grid[t, x] + diffusion + movement\n",
    "        \n",
    "        if approx_type == '1o2p':\n",
    "            grid[t+1, 0]  = ( -1 * (alpha / space_step) * grid[t+1, 1] + get_left_bound((t+1) * time_step) ) / (beta - alpha / space_step)\n",
    "            grid[t+1, -1] = ( (gamma / space_step) * grid[t+1, -2] + get_right_bound((t+1) * time_step) ) / (delta + gamma / space_step)\n",
    "            \n",
    "        elif approx_type == '2o3p':\n",
    "            grid[t+1, 0]  = ( get_left_bound((t+1) * time_step) - alpha * (4*grid[t+1, 1] - grid[t+1, 2]) / (2*space_step) ) / ( (-3*alpha)/(2*space_step) + beta )\n",
    "            grid[t+1, -1] = ( get_right_bound((t+1) * time_step) - gamma * (grid[t+1, -3] - 4*grid[t+1, -2]) / (2*space_step) ) / ( (3*gamma)/(2*space_step) + delta )\n",
    "            \n",
    "        elif approx_type == '2o2p':\n",
    "            # grid[t+1, 0]  = ( get_left_bound((t+1) * time_step)/alpha - )\n",
    "            grid[t+1, 0]  = (space_step/time_step * grid[t, 0] - get_left_bound((t+1) * time_step) * (2*a*a - b*space_step)/alpha + 2*a*a/space_step * grid[t+1, 1]) / ( 2*a*a/space_step + space_step/time_step + beta/alpha * (2*a*a - b*space_step) )\n",
    "            grid[t+1, -1] = (space_step/time_step * grid[t, -1] - get_right_bound((t+1) * time_step) * (2*a*a + b*space_step)/gamma + 2*a*a/space_step * grid[t+1, -2]) / (2*a*a/space_step + space_step/time_step + delta/gamma * (2*a*a + b*space_step))\n",
    "            \n",
    "    return grid"
   ]
  },
  {
   "cell_type": "code",
   "execution_count": 3,
   "id": "653a272a-f7da-4c0d-a824-8cb7616933bf",
   "metadata": {},
   "outputs": [
    {
     "name": "stdout",
     "output_type": "stream",
     "text": [
      "Sigma:  4.187604690117253e-05\n"
     ]
    }
   ],
   "source": [
    "grid = solve_explicit(space_start=0.0, space_stop=l, space_num=200, time_num=200, approx_type='2o2p')"
   ]
  },
  {
   "cell_type": "code",
   "execution_count": 4,
   "id": "e38088c7-45cf-49e9-b177-1a61280310a8",
   "metadata": {},
   "outputs": [
    {
     "data": {
      "text/plain": [
       "[<matplotlib.lines.Line2D at 0x7f04ed873610>]"
      ]
     },
     "execution_count": 4,
     "metadata": {},
     "output_type": "execute_result"
    },
    {
     "data": {
      "image/png": "[encoded data removed]",
      "text/plain": [
       "<Figure size 432x288 with 1 Axes>"
      ]
     },
     "metadata": {
      "needs_background": "light"
     },
     "output_type": "display_data"
    }
   ],
   "source": [
    "points = np.linspace(0.0, l, 200)\n",
    "plt.plot(points, analit_function(points, 1))\n",
    "plt.plot(points, grid[-1])"
   ]
  },
  {
   "cell_type": "code",
   "execution_count": 5,
   "id": "7aa723e1-621b-43f0-aea3-dcb114996189",
   "metadata": {},
   "outputs": [
    {
     "data": {
      "text/plain": [
       "[<matplotlib.lines.Line2D at 0x7f04ed777340>]"
      ]
     },
     "execution_count": 5,
     "metadata": {},
     "output_type": "execute_result"
    },
    {
     "data": {
      "image/png": "[encoded data removed]",
      "text/plain": [
       "<Figure size 432x288 with 1 Axes>"
      ]
     },
     "metadata": {
      "needs_background": "light"
     },
     "output_type": "display_data"
    }
   ],
   "source": [
    "points = np.linspace(0.0, l, 500)\n",
    "plt.plot(points, analit_function(points, 1))"
   ]
  },
  {
   "cell_type": "code",
   "execution_count": 6,
   "id": "ea84745d-4f20-47b3-8611-49766033ad8c",
   "metadata": {},
   "outputs": [],
   "source": [
    "def solve_tridiagonal(lower, mid, upper, constraints):\n",
    "    a, b, c, d = map(np.array, (lower, mid, upper, constraints, ))\n",
    "    x = np.zeros_like(d)\n",
    "    n = len(d)\n",
    "    \n",
    "    for i in range(1, n):\n",
    "        w = a[i] / b[i - 1]\n",
    "        b[i] -= w * c[i - 1]\n",
    "        d[i] -= w * d[i - 1]\n",
    "    \n",
    "    x[-1] = d[-1] / b[-1]\n",
    "    for i in range(n-2, -1, -1):\n",
    "        x[i] = (d[i] - c[i] * x[i+1]) / b[i]\n",
    "        \n",
    "    return x"
   ]
  },
  {
   "cell_type": "code",
   "execution_count": 7,
   "id": "875914c9-cf83-43a8-a025-2f73aacaeaea",
   "metadata": {},
   "outputs": [],
   "source": [
    "def solve_implicit(*, space_start=0.0, space_stop=1.0, space_num=200,\n",
    "                      time_start=0.0,  time_stop=1.0,  time_num=200,\n",
    "                      w = 0.5, approx_type='1o2p'):\n",
    "    space_step = (space_stop - space_start) / (space_num - 1)\n",
    "    time_step = (time_stop - time_start) / (time_num - 1)\n",
    "    \n",
    "    grid = np.zeros((time_num, space_num))\n",
    "    grid[0, :] = get_initial_values( np.linspace(space_start, space_stop, space_num) )\n",
    "    \n",
    "    for t in range(time_num - 1):\n",
    "        lower  = np.zeros((space_num, ))\n",
    "        mid    = np.zeros((space_num, ))\n",
    "        upper  = np.zeros((space_num, ))\n",
    "        constr = np.zeros((space_num, ))\n",
    "        \n",
    "        lower[1:-1] = w * (a / (space_step*space_step) - b / (2 * space_step))\n",
    "        mid[1:-1]   = -w * 2 * a / (space_step*space_step) - 1 / time_step\n",
    "        upper[1:-1] = w * (a / (space_step*space_step) + b / (2 * space_step))\n",
    "        \n",
    "        for x in range(1, space_num - 1):\n",
    "            diff_coef = a / (space_step*space_step)\n",
    "            move_coef = b / (2 * space_step)\n",
    "            constr[x] = (w - 1) * ( diff_coef * (grid[t, x+1] - 2 * grid[t, x] + grid[t, x-1]) + move_coef * (grid[t, x+1] - grid[t, x-1]) ) - grid[t, x] / time_step\n",
    "\n",
    "        if approx_type == '1o2p':\n",
    "            mid[0]    = beta - alpha / space_step\n",
    "            upper[0]  = alpha / space_step\n",
    "            constr[0] = get_left_bound((t+1) * time_step) / (beta - alpha / space_step)\n",
    "\n",
    "            lower[-1]  = -1 * gamma / space_step\n",
    "            mid[-1]    = delta + gamma / space_step\n",
    "            constr[-1] = get_right_bound((t+1) * time_step) / (delta + gamma / space_step)\n",
    "        elif approx_type == '2o3p':\n",
    "            pass\n",
    "        elif approx_type == '2o2p':\n",
    "            pass\n",
    "        \n",
    "        grid[t+1] = solve_tridiagonal(lower, mid, upper, constr)\n",
    "        \n",
    "    return grid"
   ]
  },
  {
   "cell_type": "code",
   "execution_count": 8,
   "id": "9c8d5d64-0c62-4d59-9f85-755a7962045e",
   "metadata": {},
   "outputs": [],
   "source": [
    "grid = solve_implicit(space_start=0.0, space_stop=l, space_num=10, time_num=200, w=0.5)"
   ]
  },
  {
   "cell_type": "code",
   "execution_count": 9,
   "id": "2114d292-853f-4e8f-986d-867bbcdf211f",
   "metadata": {},
   "outputs": [
    {
     "data": {
      "text/plain": [
       "[<matplotlib.lines.Line2D at 0x7f04ed6f3610>]"
      ]
     },
     "execution_count": 9,
     "metadata": {},
     "output_type": "execute_result"
    },
    {
     "data": {
      "image/png": "[encoded data removed]",
      "text/plain": [
       "<Figure size 432x288 with 1 Axes>"
      ]
     },
     "metadata": {
      "needs_background": "light"
     },
     "output_type": "display_data"
    }
   ],
   "source": [
    "points = np.linspace(0.0, l, 10)\n",
    "plt.plot(points, analit_function(points, 1))\n",
    "plt.plot(points, grid[-1])"
   ]
  },
  {
   "cell_type": "code",
   "execution_count": 10,
   "id": "d5c8316c-7310-4f20-af7c-371e2756d1cc",
   "metadata": {},
   "outputs": [
    {
     "data": {
      "text/plain": [
       "[<matplotlib.lines.Line2D at 0x7f04ed6d1700>]"
      ]
     },
     "execution_count": 10,
     "metadata": {},
     "output_type": "execute_result"
    },
    {
     "data": {
      "image/png": "[encoded data removed]",
      "text/plain": [
       "<Figure size 432x288 with 1 Axes>"
      ]
     },
     "metadata": {
      "needs_background": "light"
     },
     "output_type": "display_data"
    }
   ],
   "source": [
    "points = np.linspace(0.0, l, 500)\n",
    "plt.plot(points, analit_function(points, 1))"
   ]
  },
  {
   "cell_type": "code",
   "execution_count": null,
   "id": "336e5f50-4107-46f0-a6c5-2d003a59efe7",
   "metadata": {},
   "outputs": [],
   "source": []
  }
 ],
 "metadata": {
  "kernelspec": {
   "display_name": "Python 3",
   "language": "python",
   "name": "python3"
  },
  "language_info": {
   "codemirror_mode": {
    "name": "ipython",
    "version": 3
   },
   "file_extension": ".py",
   "mimetype": "text/x-python",
   "name": "python",
   "nbconvert_exporter": "python",
   "pygments_lexer": "ipython3",
   "version": "3.9.7"
  }
 },
 "nbformat": 4,
 "nbformat_minor": 5
}
