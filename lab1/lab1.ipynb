{
 "cells": [
  {
   "cell_type": "code",
   "execution_count": 1,
   "id": "ecf819fe-ec7b-46c5-8941-9a67123874fc",
   "metadata": {},
   "outputs": [],
   "source": [
    "import numpy as np\n",
    "import matplotlib.pyplot as plt\n",
    "\n",
    "np.set_printoptions(precision=4)\n",
    "\n",
    "a = 1/120\n",
    "b = 1/120\n",
    "\n",
    "l = np.pi\n",
    "\n",
    "alpha, beta  = 1, -1\n",
    "gamma, delta = 1, -1\n",
    "\n",
    "get_left_bound = lambda t : -1 * np.exp(-a*t) * (np.cos(b*t) + np.sin(b*t))\n",
    "get_right_bound = lambda t : np.exp(-a*t) * (np.cos(b*t) + np.sin(b*t))\n",
    "get_initial_values = lambda x : np.cos(x)\n",
    "\n",
    "analit_function = lambda x, t : np.exp(-a*t) * np.cos(x + b*t)"
   ]
  },
  {
   "cell_type": "code",
   "execution_count": 2,
   "id": "f90ed02e-f83e-4995-8566-5f47b7be3865",
   "metadata": {},
   "outputs": [],
   "source": [
    "def solve_explicit(*, space_start=0.0, space_stop=1.0, space_num=200,\n",
    "                      time_start=0.0,  time_stop=1.0,  time_num=200):\n",
    "    space_step = (space_stop - space_start) / (space_num - 1)\n",
    "    time_step = (time_stop - time_start) / (time_num - 1)\n",
    "    \n",
    "    grid = np.zeros((time_num, space_num))\n",
    "    grid[0, :] = get_initial_values( np.linspace(space_start, space_stop, space_num) )\n",
    "    \n",
    "    for t in range(time_num - 1):\n",
    "        for x in range(1, space_num - 1):\n",
    "            coef = a * time_step / (space_step*space_step)\n",
    "            diffusion = coef * ( grid[t, x+1] - 2*grid[t, x] + grid[t, x-1] )\n",
    "            \n",
    "            coef = b * time_step / (2*space_step)\n",
    "            movement = coef * ( grid[t, x+1] - grid[t, x] )\n",
    "            \n",
    "            grid[t+1, x] = grid[t, x] + diffusion + movement\n",
    "        \n",
    "        grid[t+1, 0] =  ( -1 * (alpha / space_step) * grid[t+1, 1] + get_left_bound((t+1) * time_step) ) / (beta - alpha / space_step)\n",
    "        grid[t+1, -1] = ( (gamma / space_step) * grid[t+1, -2] + get_right_bound((t+1) * time_step) ) / (delta + gamma / space_step)\n",
    "        \n",
    "    return grid"
   ]
  },
  {
   "cell_type": "code",
   "execution_count": 3,
   "id": "653a272a-f7da-4c0d-a824-8cb7616933bf",
   "metadata": {},
   "outputs": [],
   "source": [
    "grid = solve_explicit(space_start=0.0, space_stop=l, space_num=10, time_num=200)"
   ]
  },
  {
   "cell_type": "code",
   "execution_count": 4,
   "id": "7e1d09f1-1f4f-4d58-8ee1-482fba271916",
   "metadata": {},
   "outputs": [
    {
     "data": {
      "text/plain": [
       "array([ 1.    ,  0.9397,  0.766 ,  0.5   ,  0.1736, -0.1736, -0.5   ,\n",
       "       -0.766 , -0.9397, -1.    ])"
      ]
     },
     "execution_count": 4,
     "metadata": {},
     "output_type": "execute_result"
    }
   ],
   "source": [
    "grid[0]"
   ]
  },
  {
   "cell_type": "code",
   "execution_count": 5,
   "id": "d679c2c5-dcd1-47f4-86cf-40e40c261c1b",
   "metadata": {},
   "outputs": [
    {
     "data": {
      "text/plain": [
       "array([ 0.9459,  0.9271,  0.7565,  0.492 ,  0.1681, -0.1761, -0.499 ,\n",
       "       -0.7615, -0.9253, -0.8853])"
      ]
     },
     "execution_count": 5,
     "metadata": {},
     "output_type": "execute_result"
    }
   ],
   "source": [
    "grid[-1]"
   ]
  },
  {
   "cell_type": "code",
   "execution_count": 6,
   "id": "0a9e8c7a-eb5e-4403-9b12-9d63c008c889",
   "metadata": {},
   "outputs": [
    {
     "data": {
      "text/plain": [
       "[<matplotlib.lines.Line2D at 0x7f4444f68a90>]"
      ]
     },
     "execution_count": 6,
     "metadata": {},
     "output_type": "execute_result"
    },
    {
     "data": {
      "image/png": "[encoded data removed]",
      "text/plain": [
       "<Figure size 432x288 with 1 Axes>"
      ]
     },
     "metadata": {
      "needs_background": "light"
     },
     "output_type": "display_data"
    }
   ],
   "source": [
    "points = np.linspace(0.0, l, 10)\n",
    "plt.plot(points, analit_function(points, 1))\n",
    "plt.plot(points, grid[-1])"
   ]
  },
  {
   "cell_type": "code",
   "execution_count": 7,
   "id": "e38088c7-45cf-49e9-b177-1a61280310a8",
   "metadata": {},
   "outputs": [
    {
     "data": {
      "text/plain": [
       "[<matplotlib.lines.Line2D at 0x7f4444e64550>]"
      ]
     },
     "execution_count": 7,
     "metadata": {},
     "output_type": "execute_result"
    },
    {
     "data": {
      "image/png": "[encoded data removed]",
      "text/plain": [
       "<Figure size 432x288 with 1 Axes>"
      ]
     },
     "metadata": {
      "needs_background": "light"
     },
     "output_type": "display_data"
    }
   ],
   "source": [
    "points = np.linspace(0.0, l, 500)\n",
    "plt.plot(points, analit_function(points, 1))"
   ]
  },
  {
   "cell_type": "code",
   "execution_count": null,
   "id": "875914c9-cf83-43a8-a025-2f73aacaeaea",
   "metadata": {},
   "outputs": [],
   "source": []
  }
 ],
 "metadata": {
  "kernelspec": {
   "display_name": "Python 3",
   "language": "python",
   "name": "python3"
  },
  "language_info": {
   "codemirror_mode": {
    "name": "ipython",
    "version": 3
   },
   "file_extension": ".py",
   "mimetype": "text/x-python",
   "name": "python",
   "nbconvert_exporter": "python",
   "pygments_lexer": "ipython3",
   "version": "3.9.7"
  }
 },
 "nbformat": 4,
 "nbformat_minor": 5
}
